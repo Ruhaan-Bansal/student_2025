{
 "cells": [
  {
   "cell_type": "markdown",
   "id": "a5a1931e",
   "metadata": {},
   "source": [
    "---\n",
    "toc: true \n",
    "comments: true\n",
    "layout: post\n",
    "title: The Final Review CSSE2 \n",
    "description: Ruhaan Bansal's CSSE2 checkout Final Review\n",
    "categories: [Review]\n",
    "permalink: /review\n",
    "---"
   ]
  },
  {
   "cell_type": "markdown",
   "id": "fd752aff",
   "metadata": {},
   "source": [
    "{% assign codeData = site.data.finalReview %} {% include tailwind/CSSEreview.html data=codeData %}\n",
    "\n",
    "{% include tailwind/CSSEreviewData.html %}\n"
   ]
  }
 ],
 "metadata": {
  "language_info": {
   "name": "python"
  }
 },
 "nbformat": 4,
 "nbformat_minor": 5
}
