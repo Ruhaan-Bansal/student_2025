{
 "cells": [
  {
   "cell_type": "raw",
   "id": "dfd057f8",
   "metadata": {},
   "source": [
    "---\n",
    "toc: false\n",
    "comments: true\n",
    "layout: post\n",
    "title: Ruhaan Bansal's CSSE2 Final \n",
    "description: My Final Exam which I need to show to Mr. Mort\n",
    "type: ccc\n",
    "permalink: /CSSE2final\n",
    "toc: true\n",
    "comments: true\n",
    "---"
   ]
  },
  {
   "cell_type": "markdown",
   "id": "d9de9186",
   "metadata": {
    "vscode": {
     "languageId": "raw"
    }
   },
   "source": [
    "# Initial Stuff"
   ]
  }
 ],
 "metadata": {
  "language_info": {
   "name": "python"
  }
 },
 "nbformat": 4,
 "nbformat_minor": 5
}
